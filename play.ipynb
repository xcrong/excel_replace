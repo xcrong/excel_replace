{
 "cells": [
  {
   "cell_type": "code",
   "execution_count": 7,
   "metadata": {},
   "outputs": [],
   "source": [
    "import openpyxl\n",
    "import random\n",
    "\n",
    "\n",
    "fake_data = [\"小学\", \"低学\", \"中学\", \"大学\", \"高学\", \"太学\"]\n",
    "\n",
    "\n",
    "\n",
    "for demo in range(0, 100):\n",
    "    # make a demo excel\n",
    "    wb = openpyxl.Workbook()\n",
    "\n",
    "    for sheetname in range(0, 100):\n",
    "        wb.create_sheet(str(sheetname))\n",
    "        sht = wb[str(sheetname)]\n",
    "        for row in range(1, 11):\n",
    "            for column in range(1,20):\n",
    "                sht.cell(row=row, column=column, value=random.choice(fake_data))\n",
    "\n",
    "    wb.remove(wb[\"Sheet\"])\n",
    "\n",
    "    wb.save(f\"demo/demo_{demo}.xlsx\")\n"
   ]
  }
 ],
 "metadata": {
  "kernelspec": {
   "display_name": ".venv",
   "language": "python",
   "name": "python3"
  },
  "language_info": {
   "codemirror_mode": {
    "name": "ipython",
    "version": 3
   },
   "file_extension": ".py",
   "mimetype": "text/x-python",
   "name": "python",
   "nbconvert_exporter": "python",
   "pygments_lexer": "ipython3",
   "version": "3.8.10"
  }
 },
 "nbformat": 4,
 "nbformat_minor": 2
}
